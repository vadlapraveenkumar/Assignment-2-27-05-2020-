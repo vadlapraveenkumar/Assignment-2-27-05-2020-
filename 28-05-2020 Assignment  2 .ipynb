{
 "cells": [
  {
   "cell_type": "markdown",
   "metadata": {},
   "source": [
    "## Assignment 2-28-05-2020"
   ]
  },
  {
   "cell_type": "code",
   "execution_count": 4,
   "metadata": {},
   "outputs": [
    {
     "name": "stdout",
     "output_type": "stream",
     "text": [
      "enter a stringcharan123\n",
      "Vowels: 2\n",
      "Consonant: 4\n",
      "Digit: 3\n",
      "Special Character: 0\n"
     ]
    }
   ],
   "source": [
    "#answer 1\n",
    "\n",
    "str=input(\"enter a string\")\n",
    "vowels = 0\n",
    "consonant = 0\n",
    "specialChar = 0\n",
    "digit = 0\n",
    "for i in range(0, len(str)):  \n",
    "        ch = str[i]  \n",
    "        if((ch >= 'a' and ch <= 'z') or (ch >= 'A' and ch <= 'Z')):  \n",
    "            ch = ch.lower() \n",
    "            if (ch == 'a' or ch == 'e' or ch == 'i' or ch == 'o' or ch == 'u'): \n",
    "                vowels += 1\n",
    "            else: \n",
    "                consonant += 1\n",
    "        elif (ch >= '0' and ch <= '9'): \n",
    "            digit += 1\n",
    "        else: \n",
    "            specialChar += 1\n",
    "print(\"Vowels:\", vowels) \n",
    "print(\"Consonant:\", consonant)  \n",
    "print(\"Digit:\", digit)  \n",
    "print(\"Special Character:\", specialChar)  \n",
    "  "
   ]
  },
  {
   "cell_type": "code",
   "execution_count": 5,
   "metadata": {},
   "outputs": [
    {
     "name": "stdout",
     "output_type": "stream",
     "text": [
      "2\n"
     ]
    }
   ],
   "source": [
    "#answer 2\n",
    "\n",
    "str=\"abbaaccbbaaa\"\n",
    "print(str.count(\"aa\"))"
   ]
  },
  {
   "cell_type": "code",
   "execution_count": 1,
   "metadata": {},
   "outputs": [
    {
     "name": "stdout",
     "output_type": "stream",
     "text": [
      "enter((())())\n",
      "4\n"
     ]
    }
   ],
   "source": [
    "# answer 3\n",
    "\n",
    "str=input(\"enter\")\n",
    "print(str.count(\")\"))"
   ]
  },
  {
   "cell_type": "code",
   "execution_count": 3,
   "metadata": {},
   "outputs": [
    {
     "name": "stdout",
     "output_type": "stream",
     "text": [
      "enter a1\n",
      "enter b100\n",
      "18\n"
     ]
    }
   ],
   "source": [
    "#answer 4\n",
    "\n",
    "a=int(input(\"enter a\"))\n",
    "b=int(input(\"enter b\"))\n",
    "count=0\n",
    "\n",
    "for i in range(a,b+1):\n",
    "    if str(i) == str(i)[::-1]:\n",
    "        count+=1\n",
    "print(count)    \n"
   ]
  },
  {
   "cell_type": "code",
   "execution_count": 2,
   "metadata": {},
   "outputs": [
    {
     "name": "stdout",
     "output_type": "stream",
     "text": [
      "127\n",
      "848 is a palindrome\n"
     ]
    }
   ],
   "source": [
    "# answer 5\n",
    "\n",
    "n=int(input())\n",
    "while True:\n",
    "    if str(n) == str(n)[::-1]:\n",
    "        print(str(n)[::-1],\"is a palindrome\")\n",
    "        break\n",
    "    else:   \n",
    "        n+=int(str(n)[::-1])"
   ]
  },
  {
   "cell_type": "code",
   "execution_count": 1,
   "metadata": {},
   "outputs": [
    {
     "name": "stdout",
     "output_type": "stream",
     "text": [
      "enter stringorange\n",
      "puboif"
     ]
    }
   ],
   "source": [
    "#answer 6\n",
    "\n",
    "s=str(input('enter string'))\n",
    "vowel=['a','e','i','o','u']\n",
    "for i in s:\n",
    "    if i in vowel:\n",
    "        print(chr(ord(i)+1),end='')\n",
    "    elif (ord(i)>65 and ord(i)<69) or(ord(i)>97 and ord(i)<101):\n",
    "        print('e',end='')\n",
    "    elif (ord(i)>69 and ord(i)<73) or(ord(i)>101 and ord(i)<105):\n",
    "        print('i',end='')\n",
    "    elif (ord(i)>73 and ord(i)<79) or(ord(i)>105 and ord(i)<111):\n",
    "        print('o',end='')    \n",
    "    elif (ord(i)>79 and ord(i)<85) or(ord(i)>111 and ord(i)<117):\n",
    "        print('u',end='')\n",
    "    elif (ord(i)>85 and ord(i)<90) or(odr(i)>117 and ord(i)<122):\n",
    "        print('a',end='')    "
   ]
  },
  {
   "cell_type": "code",
   "execution_count": 2,
   "metadata": {},
   "outputs": [
    {
     "name": "stdout",
     "output_type": "stream",
     "text": [
      "enter stringhj123\n",
      "Total= 6\n"
     ]
    }
   ],
   "source": [
    "#answer 7\n",
    "\n",
    "str=input(\"enter string\")\n",
    "sum=0\n",
    "for x in str:\n",
    "    if x.isdigit():\n",
    "        sum+=int(x)\n",
    "print(\"Total=\",sum)        \n"
   ]
  },
  {
   "cell_type": "code",
   "execution_count": 3,
   "metadata": {},
   "outputs": [
    {
     "name": "stdout",
     "output_type": "stream",
     "text": [
      "enter score between 0.0 to 1.00.85\n",
      "B\n"
     ]
    }
   ],
   "source": [
    "#answer 8\n",
    "\n",
    "score =float(input(\"enter score between 0.0 to 1.0\"))\n",
    "if score>1.0 or score<0.0:\n",
    "    print(\"error\")\n",
    "elif score>=0.9:\n",
    "    print(\"A\")\n",
    "elif score>=0.8:\n",
    "    print(\"B\")\n",
    "elif score>=0.7:\n",
    "    print(\"C\")\n",
    "elif score>=0.6:\n",
    "    print(\"D\")\n",
    "else:\n",
    "    print('F')"
   ]
  },
  {
   "cell_type": "code",
   "execution_count": 4,
   "metadata": {},
   "outputs": [
    {
     "name": "stdout",
     "output_type": "stream",
     "text": [
      "fizzbuzz\n",
      "1\n",
      "2\n",
      "fizz\n",
      "4\n",
      "buss\n",
      "5\n",
      "fizz\n",
      "7\n",
      "8\n",
      "fizz\n",
      "buss\n",
      "10\n",
      "11\n",
      "fizz\n",
      "13\n",
      "14\n",
      "fizzbuzz\n",
      "16\n",
      "17\n",
      "fizz\n",
      "19\n",
      "buss\n",
      "20\n",
      "fizz\n",
      "22\n",
      "23\n",
      "fizz\n",
      "buss\n",
      "25\n",
      "26\n",
      "fizz\n",
      "28\n",
      "29\n",
      "fizzbuzz\n",
      "31\n",
      "32\n",
      "fizz\n",
      "34\n",
      "buss\n",
      "35\n",
      "fizz\n",
      "37\n",
      "38\n",
      "fizz\n",
      "buss\n",
      "40\n",
      "41\n",
      "fizz\n",
      "43\n",
      "44\n",
      "fizzbuzz\n",
      "46\n",
      "47\n",
      "fizz\n",
      "49\n",
      "buss\n",
      "50\n"
     ]
    }
   ],
   "source": [
    "# answer 9\n",
    "\n",
    "for fizzbuzz in range(51):\n",
    "    if fizzbuzz %3==0 and fizzbuzz %5==0:\n",
    "        print(\"fizzbuzz\")\n",
    "        continue\n",
    "    elif fizzbuzz % 3==0:\n",
    "        print(\"fizz\")\n",
    "        continue\n",
    "    elif fizzbuzz %5==0:\n",
    "        print(\"buss\")\n",
    "    print(fizzbuzz)    "
   ]
  },
  {
   "cell_type": "code",
   "execution_count": 5,
   "metadata": {},
   "outputs": [
    {
     "name": "stdout",
     "output_type": "stream",
     "text": [
      "a26\n",
      "b15\n",
      "c29\n",
      "the median is 26.0\n"
     ]
    }
   ],
   "source": [
    "# answer 10\n",
    "\n",
    "a=float(input(\"a\"))\n",
    "b=float(input(\"b\"))\n",
    "c=float(input(\"c\"))\n",
    "if a > b:\n",
    "    if a<c:\n",
    "        median=a\n",
    "    elif b>c:\n",
    "        median=b\n",
    "    else:\n",
    "        median=c\n",
    "else:\n",
    "    if a > c:\n",
    "        median=a\n",
    "    elif b<c:\n",
    "        median=b\n",
    "    else:\n",
    "        median=c\n",
    "print(\"the median is\", median)        \n",
    "        "
   ]
  },
  {
   "cell_type": "code",
   "execution_count": null,
   "metadata": {},
   "outputs": [],
   "source": []
  }
 ],
 "metadata": {
  "kernelspec": {
   "display_name": "Python 3",
   "language": "python",
   "name": "python3"
  },
  "language_info": {
   "codemirror_mode": {
    "name": "ipython",
    "version": 3
   },
   "file_extension": ".py",
   "mimetype": "text/x-python",
   "name": "python",
   "nbconvert_exporter": "python",
   "pygments_lexer": "ipython3",
   "version": "3.7.4"
  }
 },
 "nbformat": 4,
 "nbformat_minor": 4
}
